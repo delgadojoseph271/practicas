{
 "cells": [
  {
   "cell_type": "markdown",
   "metadata": {},
   "source": [
    "<div style=\"display: flex; align-items: center;\">\n",
    "    <h1 style=\"font-weight: bold; margin-right: 10px;\">Pete, the baker</h1>\n",
    "    <div style=\"display: inline-block; width: 60px; height: 30px; border: 2px solid #ecb613; color: #ecb613; text-align: center; line-height: 26px; margin-left: 10px; position: relative;\">\n",
    "        <div style=\"\">\n",
    "            5 kyu\n",
    "        </div>\n",
    "    </div>\n",
    "</div>\n"
   ]
  },
  {
   "cell_type": "markdown",
   "metadata": {},
   "source": [
    "<div>\n",
    "In this kata, you will write a function that returns the positions and the values of the \"peaks\" (or local maxima) of a numeric array.<br>\n",
    "\n",
    "\n",
    "The output will be returned as an object with two properties: pos and peaks. Both of these properties should be arrays. If there is no peak in the given array, then the output should be .{pos: [], peaks: []}\n",
    "<div/>"
   ]
  },
  {
   "cell_type": "markdown",
   "metadata": {},
   "source": [
    "<div>\n",
    "    <h2 style=\"font-weight: bold;\">Example:</h2>\n",
    "    <div style=\"background-color: black; color: white; padding: 10px; font-size: 20px; border-radius: 5px; overflow: hidden; max-width: 100%; box-sizing: border-box;\">\n",
    "       <p style=\"margin: 0;\"># must return 2 <br>\n",
    "pickPeaks([3, 2, 3, 6, 4, 1, 2, 3, 2, 1, 2, 3]){pos: [3, 7], peaks: [6, 3]}\n",
    "                              <p/>\n",
    "     </div>\n",
    "</div>\n"
   ]
  },
  {
   "cell_type": "markdown",
   "metadata": {},
   "source": [
    "My solution"
   ]
  },
  {
   "cell_type": "code",
   "execution_count": 53,
   "metadata": {},
   "outputs": [
    {
     "name": "stdout",
     "output_type": "stream",
     "text": [
      "[3, 4]\n",
      "4\n",
      "[]\n",
      "5\n",
      "{'post': [2], 'picks': [3]}\n"
     ]
    }
   ],
   "source": [
    "def pick_peaks(arr):\n",
    "        picks = []\n",
    "        post = []\n",
    "        for index, value in enumerate(arr[1:-1], start=1):\n",
    "            if value > arr[index-1]:                \n",
    "                nextTopNumber = next((i for i in range(index+1, len(arr)) if arr[i] != arr[i - 1]), index)+1\n",
    "                a = arr[index:nextTopNumber]\n",
    "                if a[0]> a[-1]:\n",
    "                    picks.append(value)\n",
    "                    post.append(index)\n",
    "\n",
    "        return{'post': post,'picks' :picks}\n",
    "\n",
    "print(pick_peaks([2,1,3,1,2,2,2,2]))"
   ]
  },
  {
   "cell_type": "markdown",
   "metadata": {},
   "source": [
    "My first attempt at logic (I didn't continue it because I thought of a better way)"
   ]
  },
  {
   "cell_type": "code",
   "execution_count": 50,
   "metadata": {},
   "outputs": [
    {
     "name": "stdout",
     "output_type": "stream",
     "text": [
      "previous:  2\n",
      "actual:  1\n",
      "next :  3\n",
      "{'pos': [2], 'peaks': [3]}\n",
      "previous:  1\n",
      "actual:  3\n",
      "next :  1\n",
      "previous:  3\n",
      "actual:  1\n",
      "next :  2\n",
      "previous:  1\n",
      "actual:  2\n",
      "next :  2\n",
      "previous:  2\n",
      "actual:  2\n",
      "next :  2\n",
      "previous:  2\n",
      "actual:  2\n",
      "next :  2\n",
      "previous:  2\n",
      "actual:  2\n",
      "next :  6\n",
      "{'pos': [2, 8], 'peaks': [3, 6]}\n",
      "previous:  2\n",
      "actual:  6\n",
      "next :  3\n",
      "{'pos': [2, 8], 'peaks': [3, 6]}\n"
     ]
    }
   ],
   "source": [
    "def pick_peaks(arr):\n",
    "    a = {\"pos\":[], \"peaks\":[]}\n",
    "    result = [arr[i] for i in range(len(arr) - 1) if arr[i] != arr[i + 1]] + [arr[-1]]\n",
    "    for index, value in enumerate(arr[1:-1], start=1):\n",
    "        listNextNumber = []\n",
    "        previousNUmber = arr[index -1] \n",
    "        actualNumber = arr[index]\n",
    "        nextNumber = arr[index + 1]\n",
    "        if previousNUmber < actualNumber and nextNumber< actualNumber:\n",
    "            a[\"pos\"].append(index),a[\"peaks\"].append(value)\n",
    "            print(a)\n",
    "        print('previous: ',previousNUmber)\n",
    "        print('actual: ',actualNumber)\n",
    "        print(\"next : \",nextNumber)\n",
    "    return a\n",
    "\n",
    "print(pick_peaks([2,1,3,1,2,2,2,2,6,3]))"
   ]
  },
  {
   "cell_type": "markdown",
   "metadata": {},
   "source": [
    "Chat GPT code, I asked for it because I had a feeling that Chat GPT would not pass the test and I wanted to test my hypothesis (indeed, it could not pass the test)"
   ]
  },
  {
   "cell_type": "code",
   "execution_count": 48,
   "metadata": {},
   "outputs": [
    {
     "name": "stdout",
     "output_type": "stream",
     "text": [
      "{'pos': [2], 'peaks': [3]}\n"
     ]
    }
   ],
   "source": [
    "def pick_peaks(arr):\n",
    "    pos = []\n",
    "    peaks = []\n",
    "    peak_candidate = None\n",
    "\n",
    "    for i in range(1, len(arr) - 1):\n",
    "        if arr[i] > arr[i - 1] and arr[i] > arr[i + 1]:\n",
    "            pos.append(i)\n",
    "            peaks.append(arr[i])\n",
    "        elif arr[i] > arr[i - 1] and arr[i] == arr[i + 1]:\n",
    "            peak_candidate = i\n",
    "        elif arr[i] < arr[i + 1] and peak_candidate is not None:\n",
    "            pos.append(peak_candidate)\n",
    "            peaks.append(arr[peak_candidate])\n",
    "            peak_candidate = None\n",
    "\n",
    "    return {\"pos\": pos, \"peaks\": peaks}\n",
    "print(pick_peaks([2,1,3,1,2,2,2,2]))"
   ]
  },
  {
   "cell_type": "markdown",
   "metadata": {},
   "source": [
    "Best solution\n"
   ]
  },
  {
   "cell_type": "code",
   "execution_count": null,
   "metadata": {},
   "outputs": [
    {
     "name": "stdout",
     "output_type": "stream",
     "text": [
      "45.74\n"
     ]
    }
   ],
   "source": [
    "def pick_peaks(arr):\n",
    "    pos = []\n",
    "    prob_peak = False\n",
    "    for i in range(1, len(arr)):\n",
    "        if arr[i] > arr[i-1]:\n",
    "            prob_peak = i\n",
    "        elif arr[i] < arr[i-1] and prob_peak:\n",
    "            pos.append(prob_peak)\n",
    "            prob_peak = False\n",
    "    return {'pos':pos, 'peaks':[arr[i] for i in pos]}"
   ]
  },
  {
   "cell_type": "markdown",
   "metadata": {
    "vscode": {
     "languageId": "html"
    }
   },
   "source": [
    "<div style=\"display: flex; justify-content: space-between; align-items: center;\">\n",
    "    <h3 style=\"margin: 0;\">Notes</h3>\n",
    "    <time style=\"margin: 0; padding: 0 30px;\">8/23/2024 5:35 pm</time>\n",
    "</div>\n",
    "\n",
    "<p>I sincerely believe that my solution is better than the supposedly best solution\n",
    "</p>\n",
    "\n",
    "<a href=\"https://www.codewars.com/kata/5279f6fe5ab7f447890006a7/train/python\">Pick peaks\n",
    "</a>\n"
   ]
  }
 ],
 "metadata": {
  "kernelspec": {
   "display_name": "Python 3",
   "language": "python",
   "name": "python3"
  },
  "language_info": {
   "codemirror_mode": {
    "name": "ipython",
    "version": 3
   },
   "file_extension": ".py",
   "mimetype": "text/x-python",
   "name": "python",
   "nbconvert_exporter": "python",
   "pygments_lexer": "ipython3",
   "version": "3.12.0"
  }
 },
 "nbformat": 4,
 "nbformat_minor": 2
}
