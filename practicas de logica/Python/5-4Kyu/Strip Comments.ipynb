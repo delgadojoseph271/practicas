{
 "cells": [
  {
   "cell_type": "markdown",
   "metadata": {},
   "source": [
    "<div style=\"display: flex; align-items: center;\">\n",
    "    <h1 style=\"font-weight: bold; margin-right: 10px;\">Codewars style ranking system</h1>\n",
    "    <div style=\"display: inline-block; width: 60px; height: 30px; border: 2px solid #1f87e7; color: #1f87e7; text-align: center; line-height: 26px; margin-left: 10px; position: relative;\">\n",
    "        <div style=\"\">\n",
    "            4 kyu\n",
    "        </div>\n",
    "    </div>\n",
    "</div>\n"
   ]
  },
  {
   "cell_type": "markdown",
   "metadata": {},
   "source": [
    "<div style=\"padding: 15px; font-size: 16px; line-height: 1.6; border-left: 4px solid #007acc;\">\n",
    "    <h2 style=\"font-weight: bold; margin-top: 0;\">Class Definition: User</h2>\n",
    "    <p>Write a class called <code>User</code> that is used to calculate the amount that a user will progress through a ranking system similar to the one Codewars uses.</p>\n",
    "    <br>\n",
    "    <h3 style=\"font-weight: bold;\">Business Rules:</h3>\n",
    "    <ul>\n",
    "        <li>A user starts at rank -8 and can progress all the way to rank 8.</li>\n",
    "        <li>There is no rank 0 (zero); the next rank after -1 is 1.</li>\n",
    "        <li>Users will complete activities, each with a rank.</li>\n",
    "        <li>Each time the user completes a ranked activity, their rank progress is updated based on the activity's rank.</li>\n",
    "        <li>The progress earned is relative to the difference between the user's current rank and the rank of the activity.</li>\n",
    "        <li>A user's rank progress starts at zero. Each time progress reaches 100, the user's rank is upgraded to the next level.</li>\n",
    "        <li>Any remaining progress from the previous rank will be applied towards the next rank's progress.</li>\n",
    "        <li>Once a user reaches rank 8, there is no further progression.</li>\n",
    "        <li>The only acceptable range of rank values is: -8, -7, -6, -5, -4, -3, -2, -1, 1, 2, 3, 4, 5, 6, 7, 8. Any other value should raise an error.</li>\n",
    "    </ul>\n",
    "    <br>\n",
    "    <h3 style=\"font-weight: bold;\">Progress Scoring:</h3>\n",
    "    <ul>\n",
    "        <li>Completing an activity ranked the same as the user's current rank is worth <strong>3 points</strong>.</li>\n",
    "        <li>Completing an activity ranked one level lower than the user's rank is worth <strong>1 point</strong>.</li>\n",
    "        <li>Activities ranked two levels or more lower than the user's current rank will be ignored.</li>\n",
    "        <li>Completing an activity ranked higher than the user's current rank accelerates progress based on the formula: <code>10 * d * d</code>, where <code>d</code> is the difference in ranking.</li>\n",
    "    </ul>\n",
    "    <br>\n",
    "    <h3 style=\"font-weight: bold;\">Logic Examples:</h3>\n",
    "    <ul>\n",
    "        <li>If a user ranked -8 completes an activity ranked -7, they will receive <strong>10 progress</strong>.</li>\n",
    "        <li>If a user ranked -8 completes an activity ranked -6, they will receive <strong>40 progress</strong>.</li>\n",
    "        <li>If a user ranked -8 completes an activity ranked -5, they will receive <strong>90 progress</strong>.</li>\n",
    "        <li>If a user ranked -8 completes an activity ranked -4, they will receive <strong>160 progress</strong>, upgrading them to rank -7 and leaving 60 progress towards their next rank.</li>\n",
    "        <li>If a user ranked -1 completes an activity ranked 1, they will receive <strong>10 progress</strong>.</li>\n",
    "    </ul>\n",
    "</div>\n"
   ]
  },
  {
   "cell_type": "markdown",
   "metadata": {},
   "source": [
    "<div>\n",
    "    <h2 style=\"font-weight: bold;\">Example:</h2>\n",
    "    <div style=\"background-color: black; color: white; padding: 10px; font-size: 20px; border-radius: 5px; overflow: hidden; max-width: 100%; box-sizing: border-box;\">\n",
    "       <p style=\"margin: 0;\"># must return 2 <br>\n",
    "        user = User()\n",
    "user.rank # => -8 <br>\n",
    "user.progress # => 0<br>\n",
    "user.inc_progress(-7)<br>\n",
    "user.progress # => 10<br>\n",
    "user.inc_progress(-5) # will add 90 progress<br>\n",
    "user.progress # => 0 # progress is now zero<br>\n",
    "user.rank # => -7 # rank was upgraded to -7<br>\n",
    "                              <p/>\n",
    "     </div>\n",
    "</div>\n"
   ]
  },
  {
   "cell_type": "markdown",
   "metadata": {},
   "source": [
    "My solution"
   ]
  },
  {
   "cell_type": "code",
   "execution_count": 6,
   "metadata": {},
   "outputs": [
    {
     "name": "stdout",
     "output_type": "stream",
     "text": [
      "-8\n",
      "0\n",
      "10\n",
      "0\n",
      "-7\n"
     ]
    }
   ],
   "source": [
    "class User:\n",
    "    def __init__(self):\n",
    "        self.possibleRanks = [-8, -7, -6, -5, -4, -3, -2, -1, 1, 2, 3, 4, 5, 6, 7, 8]\n",
    "        self.rankIndex = 0  # El índice del rango inicial (-8)\n",
    "        self.rank = self.possibleRanks[self.rankIndex]\n",
    "        self.progress = 0\n",
    "        \n",
    "    def inc_progress(self, activity_rank):\n",
    "        if activity_rank not in self.possibleRanks:\n",
    "            raise ValueError(\"Invalid activity rank.\")\n",
    "        \n",
    "        activity_rank_index = self.possibleRanks.index(activity_rank)\n",
    "        rank_difference = activity_rank_index - self.rankIndex\n",
    "\n",
    "        if rank_difference == 0:\n",
    "            # Mismo rango\n",
    "            self.progress += 3\n",
    "        elif rank_difference == -1:\n",
    "            # Un rango por debajo\n",
    "            self.progress += 1\n",
    "        elif rank_difference > 0:\n",
    "            # Rango superior\n",
    "            self.progress += 10 * (rank_difference ** 2)\n",
    "\n",
    "        # Proceso de subir de nivel\n",
    "        while self.progress >= 100 and self.rank < 8:\n",
    "            self.progress -= 100\n",
    "            self.rankIndex += 1\n",
    "            self.rank = self.possibleRanks[self.rankIndex]\n",
    "\n",
    "        # No permitir que el progreso se incremente más allá del rango 8\n",
    "        if self.rank == 8:\n",
    "            self.progress = 0\n",
    "\n",
    "# Ejemplo de uso\n",
    "user = User()\n",
    "print(user.rank)  # => -8\n",
    "print(user.progress)  # => 0\n",
    "\n",
    "user.inc_progress(-7)\n",
    "print(user.progress)  # => 10\n",
    "\n",
    "user.inc_progress(-5)\n",
    "print(user.progress)  # => 0\n",
    "print(user.rank)  # => -7\n"
   ]
  },
  {
   "cell_type": "markdown",
   "metadata": {},
   "source": [
    "Best solution\n"
   ]
  },
  {
   "cell_type": "code",
   "execution_count": null,
   "metadata": {},
   "outputs": [
    {
     "name": "stdout",
     "output_type": "stream",
     "text": [
      "45.74\n"
     ]
    }
   ],
   "source": []
  },
  {
   "cell_type": "markdown",
   "metadata": {
    "vscode": {
     "languageId": "html"
    }
   },
   "source": [
    "<div style=\"display: flex; justify-content: space-between; align-items: center;\">\n",
    "    <h3 style=\"margin: 0;\">Notes</h3>\n",
    "    <time style=\"margin: 0; padding: 0 30px;\">8/26/2024 3:44 pm</time>\n",
    "</div>\n",
    "\n",
    "<p>\n",
    "</p>\n",
    "\n",
    "<a href=\"https://www.codewars.com/kata/51fda2d95d6efda45e00004e/train/python\">Codewars style ranking system\n",
    "</a>\n"
   ]
  }
 ],
 "metadata": {
  "kernelspec": {
   "display_name": "Python 3",
   "language": "python",
   "name": "python3"
  },
  "language_info": {
   "codemirror_mode": {
    "name": "ipython",
    "version": 3
   },
   "file_extension": ".py",
   "mimetype": "text/x-python",
   "name": "python",
   "nbconvert_exporter": "python",
   "pygments_lexer": "ipython3",
   "version": "3.12.0"
  }
 },
 "nbformat": 4,
 "nbformat_minor": 2
}
