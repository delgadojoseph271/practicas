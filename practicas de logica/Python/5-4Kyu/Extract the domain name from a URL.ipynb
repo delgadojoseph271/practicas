{
 "cells": [
  {
   "cell_type": "markdown",
   "metadata": {},
   "source": [
    "<div style=\"display: flex; align-items: center;\">\n",
    "    <h1 style=\"font-weight: bold; margin-right: 10px;\">Extract the domain name from a URL</h1>\n",
    "    <div style=\"display: inline-block; width: 60px; height: 30px; border: 2px solid #ecb613; color: #ecb613; text-align: center; line-height: 26px; margin-left: 10px; position: relative;\">\n",
    "        <div style=\"\">\n",
    "            5 kyu\n",
    "        </div>\n",
    "    </div>\n",
    "</div>\n"
   ]
  },
  {
   "cell_type": "markdown",
   "metadata": {},
   "source": [
    "<div>\n",
    "Write a function that when given a URL as a string, parses out just the domain name and returns it as a string.\n",
    "<div/>"
   ]
  },
  {
   "cell_type": "markdown",
   "metadata": {},
   "source": [
    "<div>\n",
    "    <h2 style=\"font-weight: bold;\">Example:</h2>\n",
    "    <div style=\"background-color: black; color: white; padding: 10px; font-size: 20px; border-radius: 5px; overflow: hidden; max-width: 100%; box-sizing: border-box;\">\n",
    "       <p style=\"margin: 0;\">* url = \"http://github.com/carbonfive/raygun\" -> domain name = \"github\" <br>\n",
    "                              * url = \"http://www.zombie-bites.com\"         -> domain name = \"zombie-bites\" <br>\n",
    "                              * url = \"https://www.cnet.com\"                -> domain name = cnet\" <br>\n",
    "                              <p/>\n",
    "     </div>\n",
    "</div>\n"
   ]
  },
  {
   "cell_type": "markdown",
   "metadata": {},
   "source": [
    "My solution"
   ]
  },
  {
   "cell_type": "code",
   "execution_count": 41,
   "metadata": {},
   "outputs": [
    {
     "name": "stdout",
     "output_type": "stream",
     "text": [
      "xakep\n"
     ]
    }
   ],
   "source": [
    "def domain_name(url):\n",
    "    if \"://\" in url:\n",
    "        url = url.split(\"://\")[1]    \n",
    "    url = url.split(\"/\")[0]\n",
    "    if url.startswith(\"www.\"):\n",
    "        url = url[4:]    \n",
    "    domain_name = url.split('.')[0]\n",
    "    \n",
    "    return domain_name\n",
    "print(domain_name('www.xakep.ru'))"
   ]
  },
  {
   "cell_type": "markdown",
   "metadata": {},
   "source": [
    "Best solution\n"
   ]
  },
  {
   "cell_type": "code",
   "execution_count": 31,
   "metadata": {},
   "outputs": [
    {
     "name": "stdout",
     "output_type": "stream",
     "text": [
      "Thi1s is2 3a T4est\n"
     ]
    }
   ],
   "source": [
    "def domain_name(url):\n",
    "    return url.split(\"//\")[-1].split(\"www.\")[-1].split(\".\")[0]\n",
    "\n",
    "print(domain_name('www.xakep.ru'))"
   ]
  },
  {
   "cell_type": "markdown",
   "metadata": {
    "vscode": {
     "languageId": "html"
    }
   },
   "source": [
    "<div style=\"display: flex; justify-content: space-between; align-items: center;\">\n",
    "    <h3 style=\"margin: 0;\">Notes</h3>\n",
    "    <time style=\"margin: 0; padding: 0 30px;\">8/17/2024 4:22 pm</time>\n",
    "</div>\n",
    "\n",
    "<p>I didn't think of that way to do it\n",
    "</p>\n",
    "\n",
    "<a href=\"https://www.codewars.com/kata/514a024011ea4fb54200004b/train/python\">Extract the domain name from a URL</a>\n"
   ]
  }
 ],
 "metadata": {
  "kernelspec": {
   "display_name": "Python 3",
   "language": "python",
   "name": "python3"
  },
  "language_info": {
   "codemirror_mode": {
    "name": "ipython",
    "version": 3
   },
   "file_extension": ".py",
   "mimetype": "text/x-python",
   "name": "python",
   "nbconvert_exporter": "python",
   "pygments_lexer": "ipython3",
   "version": "3.12.0"
  }
 },
 "nbformat": 4,
 "nbformat_minor": 2
}
