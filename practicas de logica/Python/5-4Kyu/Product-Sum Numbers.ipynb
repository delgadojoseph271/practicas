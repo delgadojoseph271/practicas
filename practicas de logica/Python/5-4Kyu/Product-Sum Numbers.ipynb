{
 "cells": [
  {
   "cell_type": "markdown",
   "metadata": {},
   "source": [
    "<h1 style='font-weight: bold;'>Product-Sum Numbers<h1/>\n",
    "\n"
   ]
  },
  {
   "cell_type": "markdown",
   "metadata": {},
   "source": [
    "<div>\n",
    "A product-sum number is a natural number N which can be expressed as both the product and the sum of the same set of numbers.\n",
    "\n",
    "N = a1 × a2 × ... × ak = a1 + a2 + ... + ak\n",
    "\n",
    "For example, 6 = 1 × 2 × 3 = 1 + 2 + 3.\n",
    "\n",
    "For a given set of size, k, we shall call the smallest N with this property a minimal product-sum number. The minimal product-sum numbers for sets of size, k = 2, 3, 4, 5, and 6 are as follows.\n",
    "<div/>"
   ]
  },
  {
   "cell_type": "markdown",
   "metadata": {},
   "source": [
    "<div>\n",
    "    <h2 style=\"font-weight: bold;\">Example:</h2>\n",
    "    <div style=\"background-color: black; color: white; padding: 10px; font-size: 20px; border-radius: 5px; overflow: hidden; max-width: 100%; box-sizing: border-box;\">\n",
    "       <p style=\"margin: 0;\">k=2: 4 = 2 × 2 = 2 + 2<p/>\n",
    "        <p style=\"margin: 0;\">k=3: 6 = 1 × 2 × 3 = 1 + 2 + 3<p/>\n",
    "        <p style=\"margin: 0;\">k=4: 8 = 1 × 1 × 2 × 4 = 1 + 1 + 2 + 4<p/>\n",
    "        <p style=\"margin: 0;\">k=5: 8 = 1 × 1 × 2 × 2 × 2 = 1 + 1 + 2 + 2 + 2<p/>\n",
    "        <p style=\"margin: 0;\">k=6: 12 = 1 × 1 × 1 × 1 × 2 × 6 = 1 + 1 + 1 + 1 + 2 + 6<p/>\n",
    "    </div>\n",
    "</div>\n"
   ]
  },
  {
   "cell_type": "markdown",
   "metadata": {},
   "source": [
    "My solution"
   ]
  },
  {
   "cell_type": "code",
   "execution_count": 7,
   "metadata": {},
   "outputs": [
    {
     "name": "stdout",
     "output_type": "stream",
     "text": [
      "came Case\n"
     ]
    }
   ],
   "source": [
    "def solution(s):\n",
    "    text = ''\n",
    "    for i in s:\n",
    "        if i.isupper():\n",
    "            text = text + \" \"\n",
    "        text = text + i\n",
    "    return text\n",
    "    pass\n",
    "\n",
    "print(solution('cameCase'))"
   ]
  },
  {
   "cell_type": "markdown",
   "metadata": {},
   "source": [
    "Best solution\n"
   ]
  },
  {
   "cell_type": "code",
   "execution_count": 31,
   "metadata": {},
   "outputs": [
    {
     "name": "stdout",
     "output_type": "stream",
     "text": [
      "Thi1s is2 3a T4est\n"
     ]
    }
   ],
   "source": [
    "def solution(s):\n",
    "    return ''.join(' ' + c if c.isupper() else c for c in s)\n",
    "print(solution('cameCase'))"
   ]
  },
  {
   "cell_type": "markdown",
   "metadata": {
    "vscode": {
     "languageId": "html"
    }
   },
   "source": [
    "<div style=\"display: flex; justify-content: space-between; align-items: center;\">\n",
    "    <h3 style=\"margin: 0;\">Notes</h3>\n",
    "    <time style=\"margin: 0; padding: 0 30px;\">8/11/2024 5:10 pm</time>\n",
    "</div>\n",
    "\n",
    "<p>Although I thought of a similar way, I decided on the simplest approach. However, I didn't know how to express the condition in the list comprehension.</p>\n",
    "\n",
    "<a href=\"https://www.codewars.com/kata/5b16bbd2c8c47ec58300016e/train/python\">Product-Sum Numbers</a>\n"
   ]
  }
 ],
 "metadata": {
  "kernelspec": {
   "display_name": "Python 3",
   "language": "python",
   "name": "python3"
  },
  "language_info": {
   "codemirror_mode": {
    "name": "ipython",
    "version": 3
   },
   "file_extension": ".py",
   "mimetype": "text/x-python",
   "name": "python",
   "nbconvert_exporter": "python",
   "pygments_lexer": "ipython3",
   "version": "3.12.0"
  }
 },
 "nbformat": 4,
 "nbformat_minor": 2
}
