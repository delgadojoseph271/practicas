{
 "cells": [
  {
   "cell_type": "markdown",
   "metadata": {},
   "source": [
    "<div style=\"display: flex; align-items: center;\">\n",
    "    <h1 style=\"font-weight: bold; margin-right: 10px;\">The Hashtag Generator</h1>\n",
    "    <div style=\"display: inline-block; width: 60px; height: 30px; border: 2px solid #ecb613; color: #ecb613; text-align: center; line-height: 26px; margin-left: 10px; position: relative;\">\n",
    "        <div style=\"\">\n",
    "            5 kyu\n",
    "        </div>\n",
    "    </div>\n",
    "</div>\n"
   ]
  },
  {
   "cell_type": "markdown",
   "metadata": {},
   "source": [
    "<div style=\"padding: 15px; font-size: 16px; line-height: 1.6; border-left: 4px solid #007acc;\">\n",
    "    <h2 style=\"font-weight: bold; margin-top: 0;\">Problem Statement</h2>\n",
    "    <p>The marketing team is spending way too much time typing in hashtags.\n",
    "    Let's help them with our own Hashtag Generator!</p>\n",
    "    <p>Modern Roman numerals are written by expressing each digit separately starting with the leftmost digit and skipping any digit with a value of zero. There cannot be more than 3 identical symbols in a row.</p>\n",
    "    <h3 style=\"font-weight: bold;\">Here's the deal:</h3>\n",
    "    <ul style=\"list-style-type: none; padding-left: 0;\">\n",
    "        <li>It must start with a hashtag ().#</li>\n",
    "        <li>If the final result is longer than 140 chars it must return .false</li>\n",
    "        <li>If the input or the result is an empty string it must return .false</li>\n",
    "    </ul>\n",
    "</div>\n"
   ]
  },
  {
   "cell_type": "markdown",
   "metadata": {},
   "source": [
    "<div>\n",
    "    <h2 style=\"font-weight: bold;\">Example:</h2>\n",
    "    <div style=\"background-color: black; color: white; padding: 10px; font-size: 20px; border-radius: 5px; overflow: hidden; max-width: 100%; box-sizing: border-box;\">\n",
    "       <p style=\"margin: 0;\">\" Hello there thanks for trying my Kata\"  =>  \"#HelloThereThanksForTryingMyKata\"<br>\n",
    "                            \"    Hello     World   \"                  =>  \"#HelloWorld\"<br>\n",
    "                            \"\"                                        =>  false<br>\n",
    "                            <p/>     \n",
    "    </div>\n",
    "</div>\n"
   ]
  },
  {
   "cell_type": "markdown",
   "metadata": {},
   "source": [
    "My solution"
   ]
  },
  {
   "cell_type": "code",
   "execution_count": 29,
   "metadata": {},
   "outputs": [
    {
     "name": "stdout",
     "output_type": "stream",
     "text": [
      "142\n",
      "False\n"
     ]
    }
   ],
   "source": [
    "def generate_hashtag(s):\n",
    "    #your code here\n",
    "    print(s)\n",
    "    print()\n",
    "    if s == '' or len([x for x in s if  x != ' ']) >= 140:\n",
    "        return False\n",
    "    listObject = list(' '+s)\n",
    "    text = ([i.lower() if listObject[index-1]!=' ' else listObject[index].upper() for index, i in enumerate(listObject) if i !=' '])\n",
    "    print(text)\n",
    "    return '#'+(\"\".join(text))\n",
    "\n",
    "print(generate_hashtag(\"'#ABbCccDdddEeeeeFfffffGggggggHhhhhhhhIiiiiiiiiJjjjjjjjjjKkkkkkkkkkkLlllllllllllMmmmmmmmmmmmmNnnnnnnnnnnnnnOooooooooooooooPpppppppppppppppQqq'\"))\n"
   ]
  },
  {
   "cell_type": "markdown",
   "metadata": {},
   "source": [
    "Best solution\n"
   ]
  },
  {
   "cell_type": "code",
   "execution_count": 1,
   "metadata": {},
   "outputs": [],
   "source": [
    "def generate_hashtag(s):\n",
    "    output = \"#\"\n",
    "    \n",
    "    for word in s.split():\n",
    "        output += word.capitalize()\n",
    "    \n",
    "    return False if (len(s) == 0 or len(output) > 140) else output"
   ]
  },
  {
   "cell_type": "markdown",
   "metadata": {
    "vscode": {
     "languageId": "html"
    }
   },
   "source": [
    "<div style=\"display: flex; justify-content: space-between; align-items: center;\">\n",
    "    <h3 style=\"margin: 0;\">Notes</h3>\n",
    "    <time style=\"margin: 0; padding: 0 30px;\">8/15/2024 5:10 pm</time>\n",
    "</div>\n",
    "\n",
    "<p></p>\n",
    "\n",
    "<a href=\"https://www.codewars.com/kata/52449b062fb80683ec000024/train/python\">The Hashtag Generator.</a>\n"
   ]
  }
 ],
 "metadata": {
  "kernelspec": {
   "display_name": "Python 3",
   "language": "python",
   "name": "python3"
  },
  "language_info": {
   "codemirror_mode": {
    "name": "ipython",
    "version": 3
   },
   "file_extension": ".py",
   "mimetype": "text/x-python",
   "name": "python",
   "nbconvert_exporter": "python",
   "pygments_lexer": "ipython3",
   "version": "3.12.0"
  }
 },
 "nbformat": 4,
 "nbformat_minor": 2
}
