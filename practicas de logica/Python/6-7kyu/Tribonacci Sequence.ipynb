{
 "cells": [
  {
   "cell_type": "markdown",
   "metadata": {},
   "source": [
    "<div style=\"display: flex; align-items: center;\">\n",
    "    <h1 style=\"font-weight: bold; margin-right: 10px;\">Tribonacci Sequence</h1>\n",
    "    <div style=\"display: inline-block; width: 60px; height: 30px; border: 2px solid #ecb613; color: #ecb613; text-align: center; line-height: 26px; margin-left: 10px; position: relative;\">\n",
    "        <div style=\"\">\n",
    "            6 kyu\n",
    "        </div>\n",
    "    </div>\n",
    "</div>\n"
   ]
  },
  {
   "cell_type": "markdown",
   "metadata": {},
   "source": [
    "<div style=\"padding: 15px; font-size: 16px; line-height: 1.6; border-left: 4px solid #007acc;\">\n",
    "    <h2 style=\"font-weight: bold; margin-top: 0;\">Problem Statement</h2>\n",
    "    <p>Well met with Fibonacci bigger brother, AKA Tribonacci.\n",
    "\n",
    "As the name may already reveal, it works basically like a Fibonacci, but summing the last 3 (instead of 2) numbers of the sequence to generate the next.</p>\n",
    "    \n",
    "    \n",
    "</div>\n"
   ]
  },
  {
   "cell_type": "markdown",
   "metadata": {},
   "source": [
    "<div>\n",
    "    <h2 style=\"font-weight: bold;\">Example:</h2>\n",
    "    <div style=\"background-color: black; color: white; padding: 10px; font-size: 20px; border-radius: 5px; overflow: hidden; max-width: 100%; box-sizing: border-box;\">\n",
    "       <p style=\"margin: 0;\">[1, 1 ,1, 3, 5, 9, 17, 31, ...]\n",
    "                            <p/>     \n",
    "    </div>\n",
    "</div>\n"
   ]
  },
  {
   "cell_type": "markdown",
   "metadata": {},
   "source": [
    "My solution"
   ]
  },
  {
   "cell_type": "code",
   "execution_count": 4,
   "metadata": {},
   "outputs": [
    {
     "name": "stdout",
     "output_type": "stream",
     "text": [
      "0\n",
      "[1, 1, 1, 3]\n",
      "1\n",
      "[1, 1, 1, 3, 5]\n",
      "2\n",
      "[1, 1, 1, 3, 5, 9]\n",
      "3\n",
      "[1, 1, 1, 3, 5, 9, 17]\n",
      "4\n",
      "[1, 1, 1, 3, 5, 9, 17, 31]\n",
      "5\n",
      "[1, 1, 1, 3, 5, 9, 17, 31, 57]\n",
      "6\n",
      "[1, 1, 1, 3, 5, 9, 17, 31, 57, 105]\n",
      "[1, 1, 1, 3, 5, 9, 17, 31, 57, 105]\n"
     ]
    }
   ],
   "source": [
    "def tribonacci(signature, n):\n",
    "    for i in range(n-len(signature)):\n",
    "        signature.append(signature[0+i]+signature[1+i]+signature[2+i])\n",
    "    return [signature[i] for i in range(n)] if n < 3 else signature\n",
    "\n",
    "print(tribonacci([1, 1, 1], 10))"
   ]
  },
  {
   "cell_type": "markdown",
   "metadata": {},
   "source": [
    "Best solution\n"
   ]
  },
  {
   "cell_type": "code",
   "execution_count": 1,
   "metadata": {},
   "outputs": [],
   "source": [
    "def tribonacci(signature, n):\n",
    "  res = signature[:n]\n",
    "  for i in range(n - 3): res.append(sum(res[-3:]))\n",
    "  return res"
   ]
  },
  {
   "cell_type": "markdown",
   "metadata": {
    "vscode": {
     "languageId": "html"
    }
   },
   "source": [
    "<div style=\"display: flex; justify-content: space-between; align-items: center;\">\n",
    "    <h3 style=\"margin: 0;\">Notes</h3>\n",
    "    <time style=\"margin: 0; padding: 0 30px;\">8/15/2024 9:00 pm</time>\n",
    "</div>\n",
    "\n",
    "<p>I was not so far from the best solution, I thought about using SUM but I did not know what could be done that way, when looking for information I did not find that it could be used like this, although I think my solution is not bad</p>\n",
    "\n",
    "<a href=\"https://www.codewars.com/kata/556deca17c58da83c00002db/train/python\">Tribonacci Sequence</a>\n"
   ]
  }
 ],
 "metadata": {
  "kernelspec": {
   "display_name": "Python 3",
   "language": "python",
   "name": "python3"
  },
  "language_info": {
   "codemirror_mode": {
    "name": "ipython",
    "version": 3
   },
   "file_extension": ".py",
   "mimetype": "text/x-python",
   "name": "python",
   "nbconvert_exporter": "python",
   "pygments_lexer": "ipython3",
   "version": "3.12.0"
  }
 },
 "nbformat": 4,
 "nbformat_minor": 2
}
