{
 "cells": [
  {
   "cell_type": "markdown",
   "metadata": {},
   "source": [
    "<h1 style='font-weight: bold;'>Your order, please<h1/>\n",
    "\n"
   ]
  },
  {
   "cell_type": "markdown",
   "metadata": {},
   "source": [
    "<div>\n",
    "Your task is to sort a given string. Each word in the string will contain a single number. This number is the position the word should have in the result.\n",
    "\n",
    "Note: Numbers can be from 1 to 9. So 1 will be the first word (not 0).\n",
    "\n",
    "If the input string is empty, return an empty string. The words in the input String will only contain valid consecutive numbers.\n",
    "<div/>"
   ]
  },
  {
   "cell_type": "markdown",
   "metadata": {},
   "source": [
    "<div style='margin-rigth:200px;'>\n",
    "    <h2 style='font-weight: bold;'>Example:<h2/>\n",
    "    <div style='background-color: black; padding:20px; font-size:20px; border-sizing: 90%;'>\n",
    "        <p>\"is2 Thi1s T4est 3a\"  -->  \"Thi1s is2 3a T4est\"\n",
    "        <p>\n",
    "            \"4of Fo1r pe6ople g3ood th5e the2\"  -->  \"Fo1r the2 g3ood 4of th5e pe6ople\"\n",
    "        <p/>\n",
    "        <p>\"\"  -->  \"\"<p/>\n",
    "    <div/>\n",
    "<div/>\n"
   ]
  },
  {
   "cell_type": "markdown",
   "metadata": {},
   "source": [
    "My solution"
   ]
  },
  {
   "cell_type": "code",
   "execution_count": 4,
   "metadata": {},
   "outputs": [
    {
     "name": "stdout",
     "output_type": "stream",
     "text": [
      "['Thi1s', 'is2', '3a', 'T4est']\n",
      "Thi1s is2 3a T4est\n"
     ]
    }
   ],
   "source": [
    "def order(sentence):\n",
    "    newList = []\n",
    "    sentenceList = sentence.split()\n",
    "    \n",
    "    # Inicializamos la lista newList con None para mantener los índices\n",
    "    newList = [None] * len(sentenceList)\n",
    "    \n",
    "    for word in sentenceList:\n",
    "        for char in word:\n",
    "            if char.isnumeric():\n",
    "                index = int(char) - 1\n",
    "                newList[index] = word\n",
    "                break\n",
    "\n",
    "    \n",
    "    print(newList)\n",
    "    # Eliminamos posibles None que puedan quedar en la lista\n",
    "    newList = [word for word in newList if word is not None]\n",
    "    \n",
    "    return \" \".join(newList)\n",
    "\n",
    "# Prueba\n",
    "sentence = \"is2 Thi1s T4est 3a\"\n",
    "result = order(sentence)\n",
    "print(result)  \n"
   ]
  },
  {
   "cell_type": "markdown",
   "metadata": {},
   "source": [
    "Best solution\n"
   ]
  },
  {
   "cell_type": "code",
   "execution_count": 5,
   "metadata": {},
   "outputs": [
    {
     "name": "stdout",
     "output_type": "stream",
     "text": [
      "Thi1s is2 3a T4est\n"
     ]
    }
   ],
   "source": [
    "def order(words):\n",
    "    return ' '.join(sorted(words.split(), key=lambda w:sorted(w)))\n",
    "# Prueba\n",
    "\n",
    "\n",
    "sentence = \"is2 Thi1s T4est 3a\"\n",
    "result = order(sentence)\n",
    "print(result)  "
   ]
  }
 ],
 "metadata": {
  "kernelspec": {
   "display_name": "Python 3",
   "language": "python",
   "name": "python3"
  },
  "language_info": {
   "codemirror_mode": {
    "name": "ipython",
    "version": 3
   },
   "file_extension": ".py",
   "mimetype": "text/x-python",
   "name": "python",
   "nbconvert_exporter": "python",
   "pygments_lexer": "ipython3",
   "version": "3.12.0"
  }
 },
 "nbformat": 4,
 "nbformat_minor": 2
}
