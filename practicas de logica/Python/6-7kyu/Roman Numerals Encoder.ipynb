{
 "cells": [
  {
   "cell_type": "markdown",
   "metadata": {},
   "source": [
    "<div style=\"display: flex; align-items: center;\">\n",
    "    <h1 style=\"font-weight: bold; margin-right: 10px;\">Roman Numerals Encoder</h1>\n",
    "    <div style=\"display: inline-block; width: 60px; height: 30px; border: 2px solid #ecb613; color: #ecb613; text-align: center; line-height: 26px; margin-left: 10px; position: relative;\">\n",
    "        <div style=\"\">\n",
    "            6 kyu\n",
    "        </div>\n",
    "    </div>\n",
    "</div>\n"
   ]
  },
  {
   "cell_type": "markdown",
   "metadata": {},
   "source": [
    "<div style=\"padding: 15px; font-size: 16px; line-height: 1.6; border-left: 4px solid #007acc;\">\n",
    "    <h2 style=\"font-weight: bold; margin-top: 0;\">Problem Statement</h2>\n",
    "    <p>Create a function taking a positive integer between 1 and 3999 (both included) as its parameter and returning a string containing the Roman Numeral representation of that integer.</p>\n",
    "    <p>Modern Roman numerals are written by expressing each digit separately starting with the leftmost digit and skipping any digit with a value of zero. There cannot be more than 3 identical symbols in a row.</p>\n",
    "    <h3 style=\"font-weight: bold;\">Examples:</h3>\n",
    "    <ul style=\"list-style-type: none; padding-left: 0;\">\n",
    "        <li><strong>1990</strong> is rendered: 1000=M + 900=CM + 90=XC; resulting in <strong>MCMXC</strong>.</li>\n",
    "        <li><strong>2008</strong> is written as 2000=MM, 8=VIII; or <strong>MMVIII</strong>.</li>\n",
    "        <li><strong>1666</strong> uses each Roman symbol in descending order: <strong>MDCLXVI</strong>.</li>\n",
    "    </ul>\n",
    "</div>\n"
   ]
  },
  {
   "cell_type": "markdown",
   "metadata": {},
   "source": [
    "<div>\n",
    "    <h2 style=\"font-weight: bold;\">Example:</h2>\n",
    "    <div style=\"background-color: black; color: white; padding: 10px; font-size: 20px; border-radius: 5px; overflow: hidden; max-width: 100%; box-sizing: border-box;\">\n",
    "       <p style=\"margin: 0;\">1 -->       \"I\"<br>\n",
    "                            1000 -->       \"M\"<br>\n",
    "                            1666 --> \"MDCLXVI\"<p/>     \n",
    "    </div>\n",
    "</div>\n"
   ]
  },
  {
   "cell_type": "markdown",
   "metadata": {},
   "source": [
    "My solution"
   ]
  },
  {
   "cell_type": "code",
   "execution_count": 5,
   "metadata": {},
   "outputs": [
    {
     "name": "stdout",
     "output_type": "stream",
     "text": [
      "XCVI\n"
     ]
    }
   ],
   "source": [
    "def solution(n):\n",
    "    # Diccionario que mapea los valores enteros a sus correspondientes números romanos\n",
    "    val = [\n",
    "        1000, 500,\n",
    "        100, 50,\n",
    "        10, 9, 5, 4,\n",
    "        1\n",
    "    ]\n",
    "    syb = [\n",
    "        \"M\", \"D\", \n",
    "        \"C\", \"L\", \n",
    "        \"X\", \"V\",\n",
    "        \"I\"\n",
    "    ]\n",
    "    \n",
    "    roman_num = \"\"\n",
    "    i = 0\n",
    "    while n > 0:\n",
    "        for _ in range(n // val[i]):\n",
    "            roman_num += syb[i]\n",
    "            n -= val[i]\n",
    "        i += 1\n",
    "    return roman_num\n",
    "\n",
    "\n",
    "\n",
    "print(solution(96))"
   ]
  },
  {
   "cell_type": "code",
   "execution_count": 7,
   "metadata": {},
   "outputs": [
    {
     "name": "stdout",
     "output_type": "stream",
     "text": [
      "XXXXVIIII\n"
     ]
    }
   ],
   "source": [
    "\n",
    "\n",
    "def convertir_a_romano(n):\n",
    "    equivalencias = {\n",
    "    1: 'I',\n",
    "    5: 'V',\n",
    "    10: 'X',\n",
    "    50: 'L',\n",
    "    100: 'C',\n",
    "    500: 'D',\n",
    "    1000: 'M'\n",
    "}\n",
    "    if n == 0:\n",
    "        return '' \n",
    "\n",
    "    resultado = ''\n",
    "    for valor in sorted(equivalencias, reverse=True):\n",
    "        while n >= valor:\n",
    "            resultado += equivalencias[valor]\n",
    "            n -= valor\n",
    "\n",
    "    return resultado\n",
    "\n",
    "n = 96\n",
    "print(convertir_a_romano(n))\n"
   ]
  },
  {
   "cell_type": "markdown",
   "metadata": {},
   "source": [
    "Best solution\n"
   ]
  },
  {
   "cell_type": "code",
   "execution_count": 31,
   "metadata": {},
   "outputs": [
    {
     "name": "stdout",
     "output_type": "stream",
     "text": [
      "Thi1s is2 3a T4est\n"
     ]
    }
   ],
   "source": [
    "def solution(s):\n",
    "    return ''.join(' ' + c if c.isupper() else c for c in s)\n",
    "print(solution('cameCase'))"
   ]
  },
  {
   "cell_type": "markdown",
   "metadata": {
    "vscode": {
     "languageId": "html"
    }
   },
   "source": [
    "<div style=\"display: flex; justify-content: space-between; align-items: center;\">\n",
    "    <h3 style=\"margin: 0;\">Notes</h3>\n",
    "    <time style=\"margin: 0; padding: 0 30px;\">8/11/2024 5:10 pm</time>\n",
    "</div>\n",
    "\n",
    "<p>Although I thought of a similar way, I decided on the simplest approach. However, I didn't know how to express the condition in the list comprehension.</p>\n",
    "\n",
    "<a href=\"https://www.codewars.com/kata/5b16bbd2c8c47ec58300016e/train/python\">Product-Sum Numbers</a>\n"
   ]
  }
 ],
 "metadata": {
  "kernelspec": {
   "display_name": "Python 3",
   "language": "python",
   "name": "python3"
  },
  "language_info": {
   "codemirror_mode": {
    "name": "ipython",
    "version": 3
   },
   "file_extension": ".py",
   "mimetype": "text/x-python",
   "name": "python",
   "nbconvert_exporter": "python",
   "pygments_lexer": "ipython3",
   "version": "3.12.0"
  }
 },
 "nbformat": 4,
 "nbformat_minor": 2
}
