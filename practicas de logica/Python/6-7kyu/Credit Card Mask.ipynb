{
 "cells": [
  {
   "cell_type": "markdown",
   "metadata": {},
   "source": [
    "<h1 style='font-weight: bold;'>Credit Card Mask<h1/>\n",
    "\n"
   ]
  },
  {
   "cell_type": "markdown",
   "metadata": {},
   "source": [
    "<div>\n",
    "Usually when you buy something, you're asked whether your credit card number, phone number or answer to your most secret question is still correct. However, since someone could look over your shoulder, you don't want that shown on your screen. Instead, we mask it.\n",
    "\n",
    "Your task is to write a function maskify, which changes all but the last four characters into '#'.\n",
    "<div/>"
   ]
  },
  {
   "cell_type": "markdown",
   "metadata": {},
   "source": [
    "<div style='margin-rigth:200px;'>\n",
    "    <h2 style='font-weight: bold;'>Example:<h2/>\n",
    "    <div style='background-color: black; padding:20px; font-size:20px; border-sizing: 90%;'>\n",
    "        \"4556364607935616\" --> \"############5616\"\n",
    "     \"64607935616\" -->      \"#######5616\"\n",
    "               \"1\" -->                \"1\"\n",
    "                \"\" -->                 \"\"\n",
    "\n",
    "// \"What was the name of your first pet?\"\n",
    "\"Skippy\" --> \"##ippy\"\n",
    "\"Nananananananananananananananana Batman!\" --> \"####################################man!\"\n",
    "    <div/>\n",
    "<div/>\n"
   ]
  },
  {
   "cell_type": "code",
   "execution_count": 22,
   "metadata": {},
   "outputs": [
    {
     "data": {
      "text/plain": [
       "'1'"
      ]
     },
     "execution_count": 22,
     "metadata": {},
     "output_type": "execute_result"
    }
   ],
   "source": [
    "# return masked string\n",
    "def maskify(cc):\n",
    "    \n",
    "    if len(cc)>4:\n",
    "        cc = list(cc)\n",
    "        nuevaLista= ['#']*(len(cc)-4)\n",
    "        for i in range(len(cc)-4,len(cc),1):\n",
    "            nuevaLista.append(cc[i])\n",
    "\n",
    "        return ''.join(nuevaLista)\n",
    "    else:\n",
    "        return cc\n",
    "\n",
    "maskify(\"1\")\n"
   ]
  },
  {
   "cell_type": "markdown",
   "metadata": {},
   "source": []
  }
 ],
 "metadata": {
  "kernelspec": {
   "display_name": "Python 3",
   "language": "python",
   "name": "python3"
  },
  "language_info": {
   "codemirror_mode": {
    "name": "ipython",
    "version": 3
   },
   "file_extension": ".py",
   "mimetype": "text/x-python",
   "name": "python",
   "nbconvert_exporter": "python",
   "pygments_lexer": "ipython3",
   "version": "3.12.0"
  }
 },
 "nbformat": 4,
 "nbformat_minor": 2
}
