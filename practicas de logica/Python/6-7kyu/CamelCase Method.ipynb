{
 "cells": [
  {
   "cell_type": "markdown",
   "metadata": {},
   "source": [
    "<h1 style='font-weight: bold;'>CamelCase Method<h1/>\n",
    "\n"
   ]
  },
  {
   "cell_type": "markdown",
   "metadata": {},
   "source": [
    "<div>\n",
    "Write a method (or function, depending on the language) that converts a string to camelCase, that is, all words must have their first letter capitalized and spaces must be removed.\n",
    "<div/>"
   ]
  },
  {
   "cell_type": "markdown",
   "metadata": {},
   "source": [
    "<div>\n",
    "    <h2 style=\"font-weight: bold;\">Example:</h2>\n",
    "    <div style=\"background-color: black; color: white; padding: 10px; font-size: 20px; border-radius: 5px; overflow: hidden; max-width: 100%; box-sizing: border-box;\">\n",
    "       <p style=\"margin: 0;\">\"hello case\" --> \"HelloCase\" <br>\n",
    "\"camel case word\" --> \"CamelCaseWord\"<p/>\n",
    "     </div>\n",
    "</div>\n"
   ]
  },
  {
   "cell_type": "markdown",
   "metadata": {},
   "source": [
    "My solution"
   ]
  },
  {
   "cell_type": "code",
   "execution_count": 1,
   "metadata": {},
   "outputs": [
    {
     "name": "stdout",
     "output_type": "stream",
     "text": [
      "MondongoPicante\n"
     ]
    }
   ],
   "source": [
    "def camel_case(s):\n",
    "    return ''.join(map(lambda x:x.capitalize(),s.split()))\n",
    "\n",
    "print(camel_case('Mondongo picante'))"
   ]
  },
  {
   "cell_type": "markdown",
   "metadata": {},
   "source": [
    "Best solution\n"
   ]
  },
  {
   "cell_type": "code",
   "execution_count": 1,
   "metadata": {},
   "outputs": [
    {
     "name": "stdout",
     "output_type": "stream",
     "text": [
      "MondongoPicante\n"
     ]
    }
   ],
   "source": [
    "def camel_case(string):\n",
    "    return string.title().replace(\" \", \"\")\n",
    "print(camel_case('Mondongo picante'))"
   ]
  },
  {
   "cell_type": "markdown",
   "metadata": {
    "vscode": {
     "languageId": "html"
    }
   },
   "source": [
    "<div style=\"display: flex; justify-content: space-between; align-items: center;\">\n",
    "    <h3 style=\"margin: 0;\">Notes</h3>\n",
    "    <time style=\"margin: 0; padding: 0 30px;\">8/17/2024 2:40 pm</time>\n",
    "</div>\n",
    "\n",
    "<p>too easy.<br>\n",
    "    Although I learned two new Python functions\n",
    "</p>\n",
    "\n",
    "<a href=\"https://www.codewars.com/kata/587731fda577b3d1b0001196/train/python\">CamelCase Method</a>\n"
   ]
  }
 ],
 "metadata": {
  "kernelspec": {
   "display_name": "Python 3",
   "language": "python",
   "name": "python3"
  },
  "language_info": {
   "codemirror_mode": {
    "name": "ipython",
    "version": 3
   },
   "file_extension": ".py",
   "mimetype": "text/x-python",
   "name": "python",
   "nbconvert_exporter": "python",
   "pygments_lexer": "ipython3",
   "version": "3.12.0"
  }
 },
 "nbformat": 4,
 "nbformat_minor": 2
}
